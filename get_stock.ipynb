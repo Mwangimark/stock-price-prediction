{
 "cells": [
  {
   "cell_type": "markdown",
   "id": "7e935a0d-e6e1-4ece-af0d-9a8f68974254",
   "metadata": {},
   "source": [
    "***Stock Market Price Prediction*** \n",
    "dataset: apple shares.\n",
    "Model: LSTMs\n",
    "\n",
    "Objective: aim is to predict stock prices using LSTM model."
   ]
  },
  {
   "cell_type": "code",
   "execution_count": 18,
   "id": "3c8bea1d-b13e-4517-b5bb-b07107f6e75f",
   "metadata": {},
   "outputs": [
    {
     "name": "stdout",
     "output_type": "stream",
     "text": [
      "Requirement already satisfied: alpha_vantage in c:\\users\\mark m\\desktop\\td-n\\td\\lib\\site-packages (3.0.0)\n",
      "Requirement already satisfied: aiohttp in c:\\users\\mark m\\desktop\\td-n\\td\\lib\\site-packages (from alpha_vantage) (3.11.16)\n",
      "Requirement already satisfied: requests in c:\\users\\mark m\\desktop\\td-n\\td\\lib\\site-packages (from alpha_vantage) (2.32.3)\n",
      "Requirement already satisfied: aiohappyeyeballs>=2.3.0 in c:\\users\\mark m\\desktop\\td-n\\td\\lib\\site-packages (from aiohttp->alpha_vantage) (2.6.1)\n",
      "Requirement already satisfied: aiosignal>=1.1.2 in c:\\users\\mark m\\desktop\\td-n\\td\\lib\\site-packages (from aiohttp->alpha_vantage) (1.3.2)\n",
      "Requirement already satisfied: attrs>=17.3.0 in c:\\users\\mark m\\desktop\\td-n\\td\\lib\\site-packages (from aiohttp->alpha_vantage) (25.3.0)\n",
      "Requirement already satisfied: frozenlist>=1.1.1 in c:\\users\\mark m\\desktop\\td-n\\td\\lib\\site-packages (from aiohttp->alpha_vantage) (1.5.0)\n",
      "Requirement already satisfied: multidict<7.0,>=4.5 in c:\\users\\mark m\\desktop\\td-n\\td\\lib\\site-packages (from aiohttp->alpha_vantage) (6.3.2)\n",
      "Requirement already satisfied: propcache>=0.2.0 in c:\\users\\mark m\\desktop\\td-n\\td\\lib\\site-packages (from aiohttp->alpha_vantage) (0.3.1)\n",
      "Requirement already satisfied: yarl<2.0,>=1.17.0 in c:\\users\\mark m\\desktop\\td-n\\td\\lib\\site-packages (from aiohttp->alpha_vantage) (1.18.3)\n",
      "Requirement already satisfied: charset-normalizer<4,>=2 in c:\\users\\mark m\\desktop\\td-n\\td\\lib\\site-packages (from requests->alpha_vantage) (3.4.1)\n",
      "Requirement already satisfied: idna<4,>=2.5 in c:\\users\\mark m\\desktop\\td-n\\td\\lib\\site-packages (from requests->alpha_vantage) (3.10)\n",
      "Requirement already satisfied: urllib3<3,>=1.21.1 in c:\\users\\mark m\\desktop\\td-n\\td\\lib\\site-packages (from requests->alpha_vantage) (2.3.0)\n",
      "Requirement already satisfied: certifi>=2017.4.17 in c:\\users\\mark m\\desktop\\td-n\\td\\lib\\site-packages (from requests->alpha_vantage) (2025.1.31)\n"
     ]
    },
    {
     "name": "stderr",
     "output_type": "stream",
     "text": [
      "\n",
      "[notice] A new release of pip is available: 24.3.1 -> 25.0.1\n",
      "[notice] To update, run: python.exe -m pip install --upgrade pip\n"
     ]
    }
   ],
   "source": [
    "!pip install alpha_vantage\n"
   ]
  },
  {
   "cell_type": "code",
   "execution_count": 35,
   "id": "1dff1e3c-a91d-4b3a-886c-542e6f5493c7",
   "metadata": {},
   "outputs": [],
   "source": [
    "from alpha_vantage.timeseries import TimeSeries\n",
    "import pandas as pd\n",
    "import matplotlib.pyplot as plt"
   ]
  },
  {
   "cell_type": "code",
   "execution_count": 37,
   "id": "d460cd5f-5f9e-4828-bd15-e0acfd2b8fab",
   "metadata": {},
   "outputs": [],
   "source": [
    "api_key = \"your-API-key-here\"\n",
    "ts = TimeSeries(key=api_key, output_format='pandas')\n"
   ]
  },
  {
   "cell_type": "code",
   "execution_count": 38,
   "id": "4b2ab0c0-fb79-4bdc-92e3-5720d6895e41",
   "metadata": {},
   "outputs": [],
   "source": [
    "# Fetch stock data \n",
    "symbol = 'AAPL'\n",
    "data, meta_data = ts.get_daily(symbol=symbol, outputsize='full')"
   ]
  },
  {
   "cell_type": "code",
   "execution_count": 39,
   "id": "9fe5fa98-2a61-4d93-bb58-543eb8851dcf",
   "metadata": {},
   "outputs": [],
   "source": [
    "# Save to CSV\n",
    "data.to_csv(f\"{symbol}_stock_data.csv\")"
   ]
  },
  {
   "cell_type": "markdown",
   "id": "b60a8f4c-1fbf-4f0c-b4ce-6586040bbc8b",
   "metadata": {},
   "source": [
    "<!-- Data Exploration -->"
   ]
  },
  {
   "cell_type": "code",
   "execution_count": 40,
   "id": "324a8299-8b04-4fca-a9d8-2a88bbc56fcc",
   "metadata": {},
   "outputs": [
    {
     "data": {
      "text/html": [
       "<div>\n",
       "<style scoped>\n",
       "    .dataframe tbody tr th:only-of-type {\n",
       "        vertical-align: middle;\n",
       "    }\n",
       "\n",
       "    .dataframe tbody tr th {\n",
       "        vertical-align: top;\n",
       "    }\n",
       "\n",
       "    .dataframe thead th {\n",
       "        text-align: right;\n",
       "    }\n",
       "</style>\n",
       "<table border=\"1\" class=\"dataframe\">\n",
       "  <thead>\n",
       "    <tr style=\"text-align: right;\">\n",
       "      <th></th>\n",
       "      <th>1. open</th>\n",
       "      <th>2. high</th>\n",
       "      <th>3. low</th>\n",
       "      <th>4. close</th>\n",
       "      <th>5. volume</th>\n",
       "    </tr>\n",
       "    <tr>\n",
       "      <th>date</th>\n",
       "      <th></th>\n",
       "      <th></th>\n",
       "      <th></th>\n",
       "      <th></th>\n",
       "      <th></th>\n",
       "    </tr>\n",
       "  </thead>\n",
       "  <tbody>\n",
       "    <tr>\n",
       "      <th>2025-04-03</th>\n",
       "      <td>205.540</td>\n",
       "      <td>207.49</td>\n",
       "      <td>201.25</td>\n",
       "      <td>203.19</td>\n",
       "      <td>103419006.0</td>\n",
       "    </tr>\n",
       "    <tr>\n",
       "      <th>2025-04-02</th>\n",
       "      <td>221.315</td>\n",
       "      <td>225.19</td>\n",
       "      <td>221.02</td>\n",
       "      <td>223.89</td>\n",
       "      <td>35905904.0</td>\n",
       "    </tr>\n",
       "    <tr>\n",
       "      <th>2025-04-01</th>\n",
       "      <td>219.805</td>\n",
       "      <td>223.68</td>\n",
       "      <td>218.90</td>\n",
       "      <td>223.19</td>\n",
       "      <td>36412740.0</td>\n",
       "    </tr>\n",
       "    <tr>\n",
       "      <th>2025-03-31</th>\n",
       "      <td>217.005</td>\n",
       "      <td>225.62</td>\n",
       "      <td>216.23</td>\n",
       "      <td>222.13</td>\n",
       "      <td>65299321.0</td>\n",
       "    </tr>\n",
       "    <tr>\n",
       "      <th>2025-03-28</th>\n",
       "      <td>221.670</td>\n",
       "      <td>223.81</td>\n",
       "      <td>217.68</td>\n",
       "      <td>217.90</td>\n",
       "      <td>39818617.0</td>\n",
       "    </tr>\n",
       "  </tbody>\n",
       "</table>\n",
       "</div>"
      ],
      "text/plain": [
       "            1. open  2. high  3. low  4. close    5. volume\n",
       "date                                                       \n",
       "2025-04-03  205.540   207.49  201.25    203.19  103419006.0\n",
       "2025-04-02  221.315   225.19  221.02    223.89   35905904.0\n",
       "2025-04-01  219.805   223.68  218.90    223.19   36412740.0\n",
       "2025-03-31  217.005   225.62  216.23    222.13   65299321.0\n",
       "2025-03-28  221.670   223.81  217.68    217.90   39818617.0"
      ]
     },
     "execution_count": 40,
     "metadata": {},
     "output_type": "execute_result"
    }
   ],
   "source": [
    "data.head()"
   ]
  },
  {
   "cell_type": "code",
   "execution_count": 41,
   "id": "8b5a79b9-b71b-4528-807c-6e979de7ad3b",
   "metadata": {},
   "outputs": [
    {
     "data": {
      "text/html": [
       "<div>\n",
       "<style scoped>\n",
       "    .dataframe tbody tr th:only-of-type {\n",
       "        vertical-align: middle;\n",
       "    }\n",
       "\n",
       "    .dataframe tbody tr th {\n",
       "        vertical-align: top;\n",
       "    }\n",
       "\n",
       "    .dataframe thead th {\n",
       "        text-align: right;\n",
       "    }\n",
       "</style>\n",
       "<table border=\"1\" class=\"dataframe\">\n",
       "  <thead>\n",
       "    <tr style=\"text-align: right;\">\n",
       "      <th></th>\n",
       "      <th>1. open</th>\n",
       "      <th>2. high</th>\n",
       "      <th>3. low</th>\n",
       "      <th>4. close</th>\n",
       "      <th>5. volume</th>\n",
       "    </tr>\n",
       "    <tr>\n",
       "      <th>date</th>\n",
       "      <th></th>\n",
       "      <th></th>\n",
       "      <th></th>\n",
       "      <th></th>\n",
       "      <th></th>\n",
       "    </tr>\n",
       "  </thead>\n",
       "  <tbody>\n",
       "    <tr>\n",
       "      <th>1999-11-05</th>\n",
       "      <td>84.62</td>\n",
       "      <td>88.37</td>\n",
       "      <td>84.00</td>\n",
       "      <td>88.31</td>\n",
       "      <td>3721500.0</td>\n",
       "    </tr>\n",
       "    <tr>\n",
       "      <th>1999-11-04</th>\n",
       "      <td>82.06</td>\n",
       "      <td>85.37</td>\n",
       "      <td>80.62</td>\n",
       "      <td>83.62</td>\n",
       "      <td>3384700.0</td>\n",
       "    </tr>\n",
       "    <tr>\n",
       "      <th>1999-11-03</th>\n",
       "      <td>81.62</td>\n",
       "      <td>83.25</td>\n",
       "      <td>81.00</td>\n",
       "      <td>81.50</td>\n",
       "      <td>2932700.0</td>\n",
       "    </tr>\n",
       "    <tr>\n",
       "      <th>1999-11-02</th>\n",
       "      <td>78.00</td>\n",
       "      <td>81.69</td>\n",
       "      <td>77.31</td>\n",
       "      <td>80.25</td>\n",
       "      <td>3564600.0</td>\n",
       "    </tr>\n",
       "    <tr>\n",
       "      <th>1999-11-01</th>\n",
       "      <td>80.00</td>\n",
       "      <td>80.69</td>\n",
       "      <td>77.37</td>\n",
       "      <td>77.62</td>\n",
       "      <td>2487300.0</td>\n",
       "    </tr>\n",
       "  </tbody>\n",
       "</table>\n",
       "</div>"
      ],
      "text/plain": [
       "            1. open  2. high  3. low  4. close  5. volume\n",
       "date                                                     \n",
       "1999-11-05    84.62    88.37   84.00     88.31  3721500.0\n",
       "1999-11-04    82.06    85.37   80.62     83.62  3384700.0\n",
       "1999-11-03    81.62    83.25   81.00     81.50  2932700.0\n",
       "1999-11-02    78.00    81.69   77.31     80.25  3564600.0\n",
       "1999-11-01    80.00    80.69   77.37     77.62  2487300.0"
      ]
     },
     "execution_count": 41,
     "metadata": {},
     "output_type": "execute_result"
    }
   ],
   "source": [
    "data.tail()"
   ]
  },
  {
   "cell_type": "code",
   "execution_count": 42,
   "id": "f553f987-2e2d-4d9e-9d1f-2695658f3ea5",
   "metadata": {},
   "outputs": [
    {
     "data": {
      "text/plain": [
       "1. open      float64\n",
       "2. high      float64\n",
       "3. low       float64\n",
       "4. close     float64\n",
       "5. volume    float64\n",
       "dtype: object"
      ]
     },
     "execution_count": 42,
     "metadata": {},
     "output_type": "execute_result"
    }
   ],
   "source": [
    "data.dtypes"
   ]
  },
  {
   "cell_type": "code",
   "execution_count": 43,
   "id": "308371bb-b7f9-4899-8b1b-09abfbefbbb9",
   "metadata": {},
   "outputs": [
    {
     "data": {
      "text/plain": [
       "1. open      0\n",
       "2. high      0\n",
       "3. low       0\n",
       "4. close     0\n",
       "5. volume    0\n",
       "dtype: int64"
      ]
     },
     "execution_count": 43,
     "metadata": {},
     "output_type": "execute_result"
    }
   ],
   "source": [
    "data.isnull().sum()"
   ]
  },
  {
   "cell_type": "code",
   "execution_count": 44,
   "id": "df10ab75-8cfe-41b8-b5e0-bf9d18a7a440",
   "metadata": {},
   "outputs": [
    {
     "name": "stdout",
     "output_type": "stream",
     "text": [
      "datetime64[ns]\n"
     ]
    }
   ],
   "source": [
    "print(data.index.dtype)"
   ]
  },
  {
   "cell_type": "markdown",
   "id": "64a5d23c-65f2-4a22-8d3d-be61da12bc19",
   "metadata": {},
   "source": [
    "<!-- data.columnsIndex(['1. open', '2. high', '3. low', '4. close', '5. volume'], dtype='object') -->"
   ]
  },
  {
   "cell_type": "code",
   "execution_count": 47,
   "id": "c2b79e03-be5e-47f1-821b-e2fed9ffa421",
   "metadata": {},
   "outputs": [],
   "source": [
    "\n",
    "# Rename the columns for simplicity\n",
    "data.columns = ['open', 'high', 'low', 'close', 'volume']\n"
   ]
  },
  {
   "cell_type": "code",
   "execution_count": 48,
   "id": "69121146-ff0b-4d95-b384-3252260241b5",
   "metadata": {},
   "outputs": [
    {
     "data": {
      "text/html": [
       "<div>\n",
       "<style scoped>\n",
       "    .dataframe tbody tr th:only-of-type {\n",
       "        vertical-align: middle;\n",
       "    }\n",
       "\n",
       "    .dataframe tbody tr th {\n",
       "        vertical-align: top;\n",
       "    }\n",
       "\n",
       "    .dataframe thead th {\n",
       "        text-align: right;\n",
       "    }\n",
       "</style>\n",
       "<table border=\"1\" class=\"dataframe\">\n",
       "  <thead>\n",
       "    <tr style=\"text-align: right;\">\n",
       "      <th></th>\n",
       "      <th>open</th>\n",
       "      <th>high</th>\n",
       "      <th>low</th>\n",
       "      <th>close</th>\n",
       "      <th>volume</th>\n",
       "    </tr>\n",
       "    <tr>\n",
       "      <th>date</th>\n",
       "      <th></th>\n",
       "      <th></th>\n",
       "      <th></th>\n",
       "      <th></th>\n",
       "      <th></th>\n",
       "    </tr>\n",
       "  </thead>\n",
       "  <tbody>\n",
       "    <tr>\n",
       "      <th>2025-04-03</th>\n",
       "      <td>205.540</td>\n",
       "      <td>207.49</td>\n",
       "      <td>201.25</td>\n",
       "      <td>203.19</td>\n",
       "      <td>103419006.0</td>\n",
       "    </tr>\n",
       "    <tr>\n",
       "      <th>2025-04-02</th>\n",
       "      <td>221.315</td>\n",
       "      <td>225.19</td>\n",
       "      <td>221.02</td>\n",
       "      <td>223.89</td>\n",
       "      <td>35905904.0</td>\n",
       "    </tr>\n",
       "    <tr>\n",
       "      <th>2025-04-01</th>\n",
       "      <td>219.805</td>\n",
       "      <td>223.68</td>\n",
       "      <td>218.90</td>\n",
       "      <td>223.19</td>\n",
       "      <td>36412740.0</td>\n",
       "    </tr>\n",
       "    <tr>\n",
       "      <th>2025-03-31</th>\n",
       "      <td>217.005</td>\n",
       "      <td>225.62</td>\n",
       "      <td>216.23</td>\n",
       "      <td>222.13</td>\n",
       "      <td>65299321.0</td>\n",
       "    </tr>\n",
       "    <tr>\n",
       "      <th>2025-03-28</th>\n",
       "      <td>221.670</td>\n",
       "      <td>223.81</td>\n",
       "      <td>217.68</td>\n",
       "      <td>217.90</td>\n",
       "      <td>39818617.0</td>\n",
       "    </tr>\n",
       "  </tbody>\n",
       "</table>\n",
       "</div>"
      ],
      "text/plain": [
       "               open    high     low   close       volume\n",
       "date                                                    \n",
       "2025-04-03  205.540  207.49  201.25  203.19  103419006.0\n",
       "2025-04-02  221.315  225.19  221.02  223.89   35905904.0\n",
       "2025-04-01  219.805  223.68  218.90  223.19   36412740.0\n",
       "2025-03-31  217.005  225.62  216.23  222.13   65299321.0\n",
       "2025-03-28  221.670  223.81  217.68  217.90   39818617.0"
      ]
     },
     "execution_count": 48,
     "metadata": {},
     "output_type": "execute_result"
    }
   ],
   "source": [
    "data.head()"
   ]
  },
  {
   "cell_type": "markdown",
   "id": "bdea1b33-8051-465b-aa76-09787f82fbb2",
   "metadata": {},
   "source": [
    "#Visualization"
   ]
  },
  {
   "cell_type": "code",
   "execution_count": 104,
   "id": "cdd45b5e-a3c6-4ab1-9006-939a89f01ca5",
   "metadata": {},
   "outputs": [
    {
     "data": {
      "image/png": "[encoded data removed]",
      "text/plain": [
       "<Figure size 500x500 with 1 Axes>"
      ]
     },
     "metadata": {},
     "output_type": "display_data"
    }
   ],
   "source": [
    "# Plot the closing price\n",
    "plt.figure(figsize=(5, 5))\n",
    "plt.plot(data.index, data['close'], label='Closing Price', color='blue')\n",
    "plt.title('Stock Closing Price Over Time')\n",
    "plt.xlabel('Date')\n",
    "plt.ylabel('Closing Price')\n",
    "plt.legend()\n",
    "plt.grid(True)\n",
    "plt.xticks(rotation=45)\n",
    "plt.show()"
   ]
  },
  {
   "cell_type": "code",
   "execution_count": 46,
   "id": "e66a9324-3f82-4ef5-9cf6-3d4a39eb0a91",
   "metadata": {},
   "outputs": [
    {
     "data": {
      "text/plain": [
       "Index(['1. open', '2. high', '3. low', '4. close', '5. volume'], dtype='object')"
      ]
     },
     "execution_count": 46,
     "metadata": {},
     "output_type": "execute_result"
    }
   ],
   "source": [
    "data.columns"
   ]
  },
  {
   "cell_type": "code",
   "execution_count": 98,
   "id": "c56702b3-6fad-4fbd-b6f2-43aef9e7d1e7",
   "metadata": {},
   "outputs": [
    {
     "data": {
      "image/png": "[encoded data removed]",
      "text/plain": [
       "<Figure size 800x600 with 1 Axes>"
      ]
     },
     "metadata": {},
     "output_type": "display_data"
    }
   ],
   "source": [
    "# Plot the trading volume\n",
    "plt.figure(figsize=(8, 6))\n",
    "plt.plot(data.index, data['volume'], label='Volume', color='green')\n",
    "plt.title('Stock Trading Volume Over Time')\n",
    "plt.xlabel('Date')\n",
    "plt.ylabel('Volume')\n",
    "plt.legend()\n",
    "plt.grid(True)\n",
    "plt.xticks(rotation=45)\n",
    "plt.show()\n"
   ]
  },
  {
   "cell_type": "code",
   "execution_count": 97,
   "id": "c2ae98fb-5d7e-4266-8bed-fccbb882238a",
   "metadata": {},
   "outputs": [
    {
     "data": {
      "image/png": "[encoded data removed]",
      "text/plain": [
       "<Figure size 800x600 with 1 Axes>"
      ]
     },
     "metadata": {},
     "output_type": "display_data"
    }
   ],
   "source": [
    "# Plot the high and low prices\n",
    "plt.figure(figsize=(8, 6))\n",
    "plt.plot(data.index, data['high'], label='High Price', color='red')\n",
    "plt.plot(data.index, data['low'], label='Low Price', color='orange')\n",
    "plt.title('Stock High and Low Prices Over Time')\n",
    "plt.xlabel('Date')\n",
    "plt.ylabel('Price')\n",
    "plt.legend()\n",
    "plt.grid(True)\n",
    "plt.xticks(rotation=45)\n",
    "plt.show()\n"
   ]
  },
  {
   "cell_type": "code",
   "execution_count": 54,
   "id": "37698258-fdf0-41c9-8dc7-33a931c36d09",
   "metadata": {},
   "outputs": [
    {
     "data": {
      "image/png": "[encoded data removed]",
      "text/plain": [
       "<Figure size 1000x600 with 1 Axes>"
      ]
     },
     "metadata": {},
     "output_type": "display_data"
    }
   ],
   "source": [
    "# Plot the close and open prices\n",
    "plt.figure(figsize=(10, 6))\n",
    "plt.plot(data.index, data['close'], label='Close Price', color='blue')\n",
    "plt.plot(data.index, data['open'], label='Open Price', color='purple')\n",
    "plt.title('Stock Close Price vs Open Price Over Time')\n",
    "plt.xlabel('Date')\n",
    "plt.ylabel('Price')\n",
    "plt.legend()\n",
    "plt.grid(True)\n",
    "plt.xticks(rotation=45)\n",
    "plt.show()\n"
   ]
  },
  {
   "cell_type": "markdown",
   "id": "52a34fdd-182c-4b95-b77b-4a1f5c4fd36f",
   "metadata": {},
   "source": [
    "Moving averages help to smooth out the volatility in stock prices and identify trends. You can calculate the moving averages for different time windows.\n",
    "EMA gives more weight to recent prices, which is useful for capturing recent trends.\n",
    "ROC measures the percentage change in price over a certain period."
   ]
  },
  {
   "cell_type": "code",
   "execution_count": 56,
   "id": "4f48d3d5-7753-44c9-b579-5edbccc87ca4",
   "metadata": {},
   "outputs": [],
   "source": [
    "# Calculate features\n",
    "data['SMA_30'] = data['close'].rolling(window=30).mean()\n",
    "data['SMA_100'] = data['close'].rolling(window=100).mean()\n",
    "data['EMA_30'] = data['close'].ewm(span=30, adjust=False).mean()\n",
    "data['ROC_10'] = data['close'].pct_change(periods=10)"
   ]
  },
  {
   "cell_type": "markdown",
   "id": "75bf04d5-9d5a-4833-9ba4-8f8a07d175f9",
   "metadata": {},
   "source": [
    "RSI is used to measure the magnitude of recent price changes to evaluate overbought or oversold conditions."
   ]
  },
  {
   "cell_type": "code",
   "execution_count": 57,
   "id": "6ba4a8a4-cbc2-4fb0-9bde-5e7743b4a7d5",
   "metadata": {},
   "outputs": [],
   "source": [
    "\n",
    "# Calculate RSI\n",
    "delta = data['close'].diff()\n",
    "gain = (delta.where(delta > 0, 0)).rolling(window=14).mean()\n",
    "loss = (-delta.where(delta < 0, 0)).rolling(window=14).mean()\n",
    "rs = gain / loss\n",
    "data['RSI_14'] = 100 - (100 / (1 + rs))"
   ]
  },
  {
   "cell_type": "markdown",
   "id": "4001fa81-019b-466a-a439-9e4e6fdfcce1",
   "metadata": {},
   "source": [
    "Bollinger Bands provide a range of values (upper and lower bands) within which the price tends to stay."
   ]
  },
  {
   "cell_type": "code",
   "execution_count": 58,
   "id": "52d83640-4a9f-488d-8105-f11d6c7e958f",
   "metadata": {},
   "outputs": [],
   "source": [
    "# Calculate Bollinger Bands\n",
    "data['BB_upper'] = data['SMA_30'] + 2 * data['close'].rolling(window=30).std()\n",
    "data['BB_lower'] = data['SMA_30'] - 2 * data['close'].rolling(window=30).std()\n"
   ]
  },
  {
   "cell_type": "markdown",
   "id": "1d6f2784-1004-4ed0-b609-4802e1757c9d",
   "metadata": {},
   "source": [
    " lag features to capture past data points."
   ]
  },
  {
   "cell_type": "code",
   "execution_count": 59,
   "id": "01a21d3a-06cd-4c08-92d5-08c0222feeda",
   "metadata": {},
   "outputs": [],
   "source": [
    "# Create lag features\n",
    "data['lag_1'] = data['close'].shift(1)"
   ]
  },
  {
   "cell_type": "markdown",
   "id": "a3f03bf8-0266-4a07-8c5e-7fe3fa75ac53",
   "metadata": {},
   "source": [
    " calculate the standard deviation of the closing price over a rolling window to understand the volatility of the stock."
   ]
  },
  {
   "cell_type": "code",
   "execution_count": 60,
   "id": "b67b1a7c-d379-4d5f-ad20-8c2956264d39",
   "metadata": {},
   "outputs": [],
   "source": [
    "# Calculate volatility\n",
    "data['volatility'] = data['close'].rolling(window=30).std()"
   ]
  },
  {
   "cell_type": "code",
   "execution_count": 61,
   "id": "0eaeb913-f6f9-4593-9b76-7c968830cc9e",
   "metadata": {},
   "outputs": [],
   "source": [
    "# Create target variable (next day's close)\n",
    "data['target'] = data['close'].shift(-1)"
   ]
  },
  {
   "cell_type": "code",
   "execution_count": 62,
   "id": "43885cb2-d11c-44d7-a830-7798c3393356",
   "metadata": {},
   "outputs": [
    {
     "data": {
      "text/plain": [
       "open           0\n",
       "high           0\n",
       "low            0\n",
       "close          0\n",
       "volume         0\n",
       "SMA_30        29\n",
       "SMA_100       99\n",
       "EMA_30         0\n",
       "ROC_10        10\n",
       "RSI_14        13\n",
       "BB_upper      29\n",
       "BB_lower      29\n",
       "lag_1          1\n",
       "volatility    29\n",
       "target         1\n",
       "dtype: int64"
      ]
     },
     "execution_count": 62,
     "metadata": {},
     "output_type": "execute_result"
    }
   ],
   "source": [
    "data.isnull().sum()"
   ]
  },
  {
   "cell_type": "code",
   "execution_count": 63,
   "id": "038d3437-c7e3-4a40-8d10-be3fc5ca34c8",
   "metadata": {},
   "outputs": [],
   "source": [
    "# Drop rows with missing values created by rolling windows\n",
    "data.dropna(inplace=True)"
   ]
  },
  {
   "cell_type": "code",
   "execution_count": 67,
   "id": "48909fa7-eca3-4966-9946-ef3599098f22",
   "metadata": {},
   "outputs": [
    {
     "data": {
      "text/html": [
       "<div>\n",
       "<style scoped>\n",
       "    .dataframe tbody tr th:only-of-type {\n",
       "        vertical-align: middle;\n",
       "    }\n",
       "\n",
       "    .dataframe tbody tr th {\n",
       "        vertical-align: top;\n",
       "    }\n",
       "\n",
       "    .dataframe thead th {\n",
       "        text-align: right;\n",
       "    }\n",
       "</style>\n",
       "<table border=\"1\" class=\"dataframe\">\n",
       "  <thead>\n",
       "    <tr style=\"text-align: right;\">\n",
       "      <th></th>\n",
       "      <th>open</th>\n",
       "      <th>high</th>\n",
       "      <th>low</th>\n",
       "      <th>close</th>\n",
       "      <th>volume</th>\n",
       "      <th>SMA_30</th>\n",
       "      <th>SMA_100</th>\n",
       "      <th>EMA_30</th>\n",
       "      <th>ROC_10</th>\n",
       "      <th>RSI_14</th>\n",
       "      <th>BB_upper</th>\n",
       "      <th>BB_lower</th>\n",
       "      <th>lag_1</th>\n",
       "      <th>volatility</th>\n",
       "      <th>target</th>\n",
       "    </tr>\n",
       "    <tr>\n",
       "      <th>date</th>\n",
       "      <th></th>\n",
       "      <th></th>\n",
       "      <th></th>\n",
       "      <th></th>\n",
       "      <th></th>\n",
       "      <th></th>\n",
       "      <th></th>\n",
       "      <th></th>\n",
       "      <th></th>\n",
       "      <th></th>\n",
       "      <th></th>\n",
       "      <th></th>\n",
       "      <th></th>\n",
       "      <th></th>\n",
       "      <th></th>\n",
       "    </tr>\n",
       "  </thead>\n",
       "  <tbody>\n",
       "    <tr>\n",
       "      <th>2024-11-07</th>\n",
       "      <td>224.625</td>\n",
       "      <td>227.875</td>\n",
       "      <td>224.57</td>\n",
       "      <td>227.48</td>\n",
       "      <td>42137691.0</td>\n",
       "      <td>237.190333</td>\n",
       "      <td>234.5143</td>\n",
       "      <td>233.725663</td>\n",
       "      <td>-0.004551</td>\n",
       "      <td>32.762610</td>\n",
       "      <td>256.460481</td>\n",
       "      <td>217.920186</td>\n",
       "      <td>226.96</td>\n",
       "      <td>9.635074</td>\n",
       "      <td>222.72</td>\n",
       "    </tr>\n",
       "    <tr>\n",
       "      <th>2024-11-06</th>\n",
       "      <td>222.610</td>\n",
       "      <td>226.065</td>\n",
       "      <td>221.19</td>\n",
       "      <td>222.72</td>\n",
       "      <td>54561121.0</td>\n",
       "      <td>236.288000</td>\n",
       "      <td>234.7096</td>\n",
       "      <td>233.015620</td>\n",
       "      <td>-0.027424</td>\n",
       "      <td>26.486280</td>\n",
       "      <td>255.651732</td>\n",
       "      <td>216.924268</td>\n",
       "      <td>227.48</td>\n",
       "      <td>9.681866</td>\n",
       "      <td>223.45</td>\n",
       "    </tr>\n",
       "    <tr>\n",
       "      <th>2024-11-05</th>\n",
       "      <td>221.795</td>\n",
       "      <td>223.950</td>\n",
       "      <td>221.14</td>\n",
       "      <td>223.45</td>\n",
       "      <td>28111338.0</td>\n",
       "      <td>235.468000</td>\n",
       "      <td>234.7052</td>\n",
       "      <td>232.398483</td>\n",
       "      <td>-0.021158</td>\n",
       "      <td>30.992736</td>\n",
       "      <td>254.854149</td>\n",
       "      <td>216.081851</td>\n",
       "      <td>222.72</td>\n",
       "      <td>9.693074</td>\n",
       "      <td>222.01</td>\n",
       "    </tr>\n",
       "    <tr>\n",
       "      <th>2024-11-04</th>\n",
       "      <td>220.990</td>\n",
       "      <td>222.790</td>\n",
       "      <td>219.71</td>\n",
       "      <td>222.01</td>\n",
       "      <td>44944468.0</td>\n",
       "      <td>234.419000</td>\n",
       "      <td>234.6934</td>\n",
       "      <td>231.728258</td>\n",
       "      <td>-0.026357</td>\n",
       "      <td>33.074935</td>\n",
       "      <td>253.167384</td>\n",
       "      <td>215.670616</td>\n",
       "      <td>223.45</td>\n",
       "      <td>9.374192</td>\n",
       "      <td>222.91</td>\n",
       "    </tr>\n",
       "    <tr>\n",
       "      <th>2024-11-01</th>\n",
       "      <td>220.965</td>\n",
       "      <td>225.350</td>\n",
       "      <td>220.27</td>\n",
       "      <td>222.91</td>\n",
       "      <td>65276741.0</td>\n",
       "      <td>233.481333</td>\n",
       "      <td>234.7012</td>\n",
       "      <td>231.159339</td>\n",
       "      <td>-0.009289</td>\n",
       "      <td>37.681159</td>\n",
       "      <td>251.592909</td>\n",
       "      <td>215.369758</td>\n",
       "      <td>222.01</td>\n",
       "      <td>9.055788</td>\n",
       "      <td>225.91</td>\n",
       "    </tr>\n",
       "  </tbody>\n",
       "</table>\n",
       "</div>"
      ],
      "text/plain": [
       "               open     high     low   close      volume      SMA_30  \\\n",
       "date                                                                   \n",
       "2024-11-07  224.625  227.875  224.57  227.48  42137691.0  237.190333   \n",
       "2024-11-06  222.610  226.065  221.19  222.72  54561121.0  236.288000   \n",
       "2024-11-05  221.795  223.950  221.14  223.45  28111338.0  235.468000   \n",
       "2024-11-04  220.990  222.790  219.71  222.01  44944468.0  234.419000   \n",
       "2024-11-01  220.965  225.350  220.27  222.91  65276741.0  233.481333   \n",
       "\n",
       "             SMA_100      EMA_30    ROC_10     RSI_14    BB_upper    BB_lower  \\\n",
       "date                                                                            \n",
       "2024-11-07  234.5143  233.725663 -0.004551  32.762610  256.460481  217.920186   \n",
       "2024-11-06  234.7096  233.015620 -0.027424  26.486280  255.651732  216.924268   \n",
       "2024-11-05  234.7052  232.398483 -0.021158  30.992736  254.854149  216.081851   \n",
       "2024-11-04  234.6934  231.728258 -0.026357  33.074935  253.167384  215.670616   \n",
       "2024-11-01  234.7012  231.159339 -0.009289  37.681159  251.592909  215.369758   \n",
       "\n",
       "             lag_1  volatility  target  \n",
       "date                                    \n",
       "2024-11-07  226.96    9.635074  222.72  \n",
       "2024-11-06  227.48    9.681866  223.45  \n",
       "2024-11-05  222.72    9.693074  222.01  \n",
       "2024-11-04  223.45    9.374192  222.91  \n",
       "2024-11-01  222.01    9.055788  225.91  "
      ]
     },
     "execution_count": 67,
     "metadata": {},
     "output_type": "execute_result"
    }
   ],
   "source": [
    "# Display the new features\n",
    "data.head()"
   ]
  },
  {
   "cell_type": "code",
   "execution_count": 71,
   "id": "5e405929-a13e-49a7-bae2-4974dde23115",
   "metadata": {},
   "outputs": [],
   "source": [
    "from sklearn.preprocessing import StandardScaler"
   ]
  },
  {
   "cell_type": "code",
   "execution_count": 76,
   "id": "176de6e9-0ce9-450c-bd79-24905f4184d1",
   "metadata": {},
   "outputs": [],
   "source": [
    "# Normalization"
   ]
  },
  {
   "cell_type": "code",
   "execution_count": 72,
   "id": "abfa565c-e912-4a13-8be3-70559e30662e",
   "metadata": {},
   "outputs": [],
   "source": [
    "# Apply StandardScaler to the selected columns\n",
    "scaler = StandardScaler()\n",
    "data_scaled = scaler.fit_transform(data[['close', 'SMA_30', 'SMA_100', 'EMA_30', 'ROC_10', 'RSI_14', 'BB_upper', 'BB_lower', 'lag_1', 'volatility']])\n"
   ]
  },
  {
   "cell_type": "code",
   "execution_count": 73,
   "id": "5c671c1b-1252-43f7-ae6c-f8c7ff2dc092",
   "metadata": {},
   "outputs": [],
   "source": [
    "# Convert the scaled data back into a DataFrame\n",
    "scaled_df = pd.DataFrame(data_scaled, columns=['close', 'SMA_30', 'SMA_100', 'EMA_30', 'ROC_10', 'RSI_14', 'BB_upper', 'BB_lower', 'lag_1', 'volatility'])\n"
   ]
  },
  {
   "cell_type": "code",
   "execution_count": 74,
   "id": "17ed74d1-1390-436c-b086-7702c97e9960",
   "metadata": {},
   "outputs": [],
   "source": [
    "# Add the target variable to the scaled DataFrame\n",
    "scaled_df['target'] = data['target'].values"
   ]
  },
  {
   "cell_type": "code",
   "execution_count": 75,
   "id": "6fb39b93-5d9a-42c7-bf82-748497918653",
   "metadata": {},
   "outputs": [
    {
     "data": {
      "text/html": [
       "<div>\n",
       "<style scoped>\n",
       "    .dataframe tbody tr th:only-of-type {\n",
       "        vertical-align: middle;\n",
       "    }\n",
       "\n",
       "    .dataframe tbody tr th {\n",
       "        vertical-align: top;\n",
       "    }\n",
       "\n",
       "    .dataframe thead th {\n",
       "        text-align: right;\n",
       "    }\n",
       "</style>\n",
       "<table border=\"1\" class=\"dataframe\">\n",
       "  <thead>\n",
       "    <tr style=\"text-align: right;\">\n",
       "      <th></th>\n",
       "      <th>close</th>\n",
       "      <th>SMA_30</th>\n",
       "      <th>SMA_100</th>\n",
       "      <th>EMA_30</th>\n",
       "      <th>ROC_10</th>\n",
       "      <th>RSI_14</th>\n",
       "      <th>BB_upper</th>\n",
       "      <th>BB_lower</th>\n",
       "      <th>lag_1</th>\n",
       "      <th>volatility</th>\n",
       "      <th>target</th>\n",
       "    </tr>\n",
       "  </thead>\n",
       "  <tbody>\n",
       "    <tr>\n",
       "      <th>0</th>\n",
       "      <td>0.361484</td>\n",
       "      <td>0.429680</td>\n",
       "      <td>0.414366</td>\n",
       "      <td>0.407587</td>\n",
       "      <td>-0.057146</td>\n",
       "      <td>-0.698357</td>\n",
       "      <td>0.393185</td>\n",
       "      <td>0.446368</td>\n",
       "      <td>0.357794</td>\n",
       "      <td>0.041806</td>\n",
       "      <td>222.72</td>\n",
       "    </tr>\n",
       "    <tr>\n",
       "      <th>1</th>\n",
       "      <td>0.329087</td>\n",
       "      <td>0.423476</td>\n",
       "      <td>0.415736</td>\n",
       "      <td>0.402684</td>\n",
       "      <td>-0.137550</td>\n",
       "      <td>-1.049634</td>\n",
       "      <td>0.388223</td>\n",
       "      <td>0.439070</td>\n",
       "      <td>0.361334</td>\n",
       "      <td>0.044275</td>\n",
       "      <td>223.45</td>\n",
       "    </tr>\n",
       "    <tr>\n",
       "      <th>2</th>\n",
       "      <td>0.334055</td>\n",
       "      <td>0.417838</td>\n",
       "      <td>0.415705</td>\n",
       "      <td>0.398423</td>\n",
       "      <td>-0.115526</td>\n",
       "      <td>-0.797414</td>\n",
       "      <td>0.383329</td>\n",
       "      <td>0.432897</td>\n",
       "      <td>0.328935</td>\n",
       "      <td>0.044866</td>\n",
       "      <td>222.01</td>\n",
       "    </tr>\n",
       "    <tr>\n",
       "      <th>3</th>\n",
       "      <td>0.324254</td>\n",
       "      <td>0.410626</td>\n",
       "      <td>0.415622</td>\n",
       "      <td>0.393796</td>\n",
       "      <td>-0.133802</td>\n",
       "      <td>-0.680876</td>\n",
       "      <td>0.372980</td>\n",
       "      <td>0.429883</td>\n",
       "      <td>0.333904</td>\n",
       "      <td>0.028040</td>\n",
       "      <td>222.91</td>\n",
       "    </tr>\n",
       "    <tr>\n",
       "      <th>4</th>\n",
       "      <td>0.330380</td>\n",
       "      <td>0.404180</td>\n",
       "      <td>0.415677</td>\n",
       "      <td>0.389868</td>\n",
       "      <td>-0.073801</td>\n",
       "      <td>-0.423072</td>\n",
       "      <td>0.363319</td>\n",
       "      <td>0.427678</td>\n",
       "      <td>0.324103</td>\n",
       "      <td>0.011238</td>\n",
       "      <td>225.91</td>\n",
       "    </tr>\n",
       "  </tbody>\n",
       "</table>\n",
       "</div>"
      ],
      "text/plain": [
       "      close    SMA_30   SMA_100    EMA_30    ROC_10    RSI_14  BB_upper  \\\n",
       "0  0.361484  0.429680  0.414366  0.407587 -0.057146 -0.698357  0.393185   \n",
       "1  0.329087  0.423476  0.415736  0.402684 -0.137550 -1.049634  0.388223   \n",
       "2  0.334055  0.417838  0.415705  0.398423 -0.115526 -0.797414  0.383329   \n",
       "3  0.324254  0.410626  0.415622  0.393796 -0.133802 -0.680876  0.372980   \n",
       "4  0.330380  0.404180  0.415677  0.389868 -0.073801 -0.423072  0.363319   \n",
       "\n",
       "   BB_lower     lag_1  volatility  target  \n",
       "0  0.446368  0.357794    0.041806  222.72  \n",
       "1  0.439070  0.361334    0.044275  223.45  \n",
       "2  0.432897  0.328935    0.044866  222.01  \n",
       "3  0.429883  0.333904    0.028040  222.91  \n",
       "4  0.427678  0.324103    0.011238  225.91  "
      ]
     },
     "execution_count": 75,
     "metadata": {},
     "output_type": "execute_result"
    }
   ],
   "source": [
    "# Display the scaled data\n",
    "scaled_df.head()"
   ]
  },
  {
   "cell_type": "markdown",
   "id": "67b41fe6-09b7-4e8f-8fa5-49c04178a19e",
   "metadata": {},
   "source": [
    "Model: LSTM"
   ]
  },
  {
   "cell_type": "code",
   "execution_count": 78,
   "id": "1e6d95cb-7d25-45c2-a4e6-af4362cbb396",
   "metadata": {},
   "outputs": [],
   "source": [
    "import numpy as np"
   ]
  },
  {
   "cell_type": "code",
   "execution_count": 79,
   "id": "f2d1a79b-cc48-4bac-8680-b3981f25026e",
   "metadata": {},
   "outputs": [],
   "source": [
    "# Function to create sequences of data for LSTM\n",
    "def create_sequences(data, time_step=60):\n",
    "    X, y = [], []\n",
    "    for i in range(time_step, len(data)):\n",
    "        X.append(data[i-time_step:i, 0])  # Use the past 60 days to predict the next day's price\n",
    "        y.append(data[i, 0])  # The target is the price of the next day\n",
    "    return np.array(X), np.array(y)"
   ]
  },
  {
   "cell_type": "code",
   "execution_count": 80,
   "id": "ca0872f1-dc2c-4301-86b2-b4fe5db85ca8",
   "metadata": {},
   "outputs": [],
   "source": [
    "# Create sequences from the 'close' prices\n",
    "data_close = data['close'].values.reshape(-1, 1)  # Reshape for LSTM input\n",
    "X, y = create_sequences(data_close, time_step=60)\n"
   ]
  },
  {
   "cell_type": "code",
   "execution_count": 81,
   "id": "2a30806e-0636-475f-8c95-4278fc766aa6",
   "metadata": {},
   "outputs": [],
   "source": [
    "# Reshape X to be in the shape (samples, time_steps, features)\n",
    "X = X.reshape(X.shape[0], X.shape[1], 1)"
   ]
  },
  {
   "cell_type": "code",
   "execution_count": 82,
   "id": "d781c87f-16d4-4535-9903-e3c12e9b6a04",
   "metadata": {},
   "outputs": [],
   "source": [
    "# Split into training and testing sets (80% train, 20% test)\n",
    "train_size = int(len(X) * 0.8)\n",
    "X_train, X_test = X[:train_size], X[train_size:]\n",
    "y_train, y_test = y[:train_size], y[train_size:]"
   ]
  },
  {
   "cell_type": "code",
   "execution_count": 83,
   "id": "b35fa0ff-db07-4d7c-9016-18a3598889ea",
   "metadata": {},
   "outputs": [
    {
     "name": "stdout",
     "output_type": "stream",
     "text": [
      "Training data shape: X_train=(4988, 60, 1), y_train=(4988,)\n",
      "Testing data shape: X_test=(1247, 60, 1), y_test=(1247,)\n"
     ]
    }
   ],
   "source": [
    "\n",
    "print(f\"Training data shape: X_train={X_train.shape}, y_train={y_train.shape}\")\n",
    "print(f\"Testing data shape: X_test={X_test.shape}, y_test={y_test.shape}\")"
   ]
  },
  {
   "cell_type": "markdown",
   "id": "16f0d9ab-9933-47ba-b0de-fb9330582f83",
   "metadata": {},
   "source": [
    " Build the LSTM Model:"
   ]
  },
  {
   "cell_type": "code",
   "execution_count": 84,
   "id": "dc44a965-733c-45bc-b52f-522cffdd4f06",
   "metadata": {},
   "outputs": [],
   "source": [
    "from tensorflow.keras.models import Sequential\n",
    "from tensorflow.keras.layers import LSTM, Dense, Dropout"
   ]
  },
  {
   "cell_type": "code",
   "execution_count": 85,
   "id": "cec9e8e1-a0ea-4bcc-a108-a512ba39b267",
   "metadata": {},
   "outputs": [
    {
     "name": "stderr",
     "output_type": "stream",
     "text": [
      "C:\\Users\\Mark M\\Desktop\\td-n\\td\\Lib\\site-packages\\keras\\src\\layers\\rnn\\rnn.py:200: UserWarning: Do not pass an `input_shape`/`input_dim` argument to a layer. When using Sequential models, prefer using an `Input(shape)` object as the first layer in the model instead.\n",
      "  super().__init__(**kwargs)\n"
     ]
    }
   ],
   "source": [
    "# Build the LSTM model\n",
    "model = Sequential()\n",
    "# Add LSTM layers\n",
    "model.add(LSTM(units=50, return_sequences=True, input_shape=(X_train.shape[1], 1)))\n",
    "model.add(Dropout(0.2))  # Dropout to prevent overfitting\n",
    "model.add(LSTM(units=50, return_sequences=False))\n",
    "model.add(Dropout(0.2))\n",
    "model.add(Dense(units=1))"
   ]
  },
  {
   "cell_type": "code",
   "execution_count": 86,
   "id": "a00f23fa-f585-4811-83b1-638ab2b3d6f0",
   "metadata": {},
   "outputs": [],
   "source": [
    "# Compile the model\n",
    "model.compile(optimizer='adam', loss='mean_squared_error')"
   ]
  },
  {
   "cell_type": "code",
   "execution_count": 87,
   "id": "0db65243-1e1a-4b36-8b99-6185ff9666a3",
   "metadata": {},
   "outputs": [
    {
     "name": "stdout",
     "output_type": "stream",
     "text": [
      "Epoch 1/10\n",
      "\u001b[1m156/156\u001b[0m \u001b[32m━━━━━━━━━━━━━━━━━━━━\u001b[0m\u001b[37m\u001b[0m \u001b[1m15s\u001b[0m 39ms/step - loss: 61545.5781\n",
      "Epoch 2/10\n",
      "\u001b[1m156/156\u001b[0m \u001b[32m━━━━━━━━━━━━━━━━━━━━\u001b[0m\u001b[37m\u001b[0m \u001b[1m7s\u001b[0m 42ms/step - loss: 59360.0117\n",
      "Epoch 3/10\n",
      "\u001b[1m156/156\u001b[0m \u001b[32m━━━━━━━━━━━━━━━━━━━━\u001b[0m\u001b[37m\u001b[0m \u001b[1m7s\u001b[0m 42ms/step - loss: 53676.7188\n",
      "Epoch 4/10\n",
      "\u001b[1m156/156\u001b[0m \u001b[32m━━━━━━━━━━━━━━━━━━━━\u001b[0m\u001b[37m\u001b[0m \u001b[1m7s\u001b[0m 42ms/step - loss: 50940.6172\n",
      "Epoch 5/10\n",
      "\u001b[1m156/156\u001b[0m \u001b[32m━━━━━━━━━━━━━━━━━━━━\u001b[0m\u001b[37m\u001b[0m \u001b[1m6s\u001b[0m 41ms/step - loss: 47672.7031\n",
      "Epoch 6/10\n",
      "\u001b[1m156/156\u001b[0m \u001b[32m━━━━━━━━━━━━━━━━━━━━\u001b[0m\u001b[37m\u001b[0m \u001b[1m7s\u001b[0m 43ms/step - loss: 45944.5898\n",
      "Epoch 7/10\n",
      "\u001b[1m156/156\u001b[0m \u001b[32m━━━━━━━━━━━━━━━━━━━━\u001b[0m\u001b[37m\u001b[0m \u001b[1m7s\u001b[0m 43ms/step - loss: 44985.1875\n",
      "Epoch 8/10\n",
      "\u001b[1m156/156\u001b[0m \u001b[32m━━━━━━━━━━━━━━━━━━━━\u001b[0m\u001b[37m\u001b[0m \u001b[1m10s\u001b[0m 41ms/step - loss: 40208.1836\n",
      "Epoch 9/10\n",
      "\u001b[1m156/156\u001b[0m \u001b[32m━━━━━━━━━━━━━━━━━━━━\u001b[0m\u001b[37m\u001b[0m \u001b[1m7s\u001b[0m 44ms/step - loss: 39964.7305\n",
      "Epoch 10/10\n",
      "\u001b[1m156/156\u001b[0m \u001b[32m━━━━━━━━━━━━━━━━━━━━\u001b[0m\u001b[37m\u001b[0m \u001b[1m7s\u001b[0m 43ms/step - loss: 38926.6289\n"
     ]
    },
    {
     "data": {
      "text/plain": [
       "<keras.src.callbacks.history.History at 0x242735d6390>"
      ]
     },
     "execution_count": 87,
     "metadata": {},
     "output_type": "execute_result"
    }
   ],
   "source": [
    "# Train the model\n",
    "model.fit(X_train, y_train, epochs=10, batch_size=32)"
   ]
  },
  {
   "cell_type": "code",
   "execution_count": 88,
   "id": "f87d7d8a-0556-4f35-9732-392441df3300",
   "metadata": {},
   "outputs": [
    {
     "name": "stdout",
     "output_type": "stream",
     "text": [
      "\u001b[1m39/39\u001b[0m \u001b[32m━━━━━━━━━━━━━━━━━━━━\u001b[0m\u001b[37m\u001b[0m \u001b[1m1s\u001b[0m 26ms/step\n"
     ]
    }
   ],
   "source": [
    "# Predicting on the test set\n",
    "y_pred = model.predict(X_test)"
   ]
  },
  {
   "cell_type": "raw",
   "id": "66afd250-a6c1-4d79-84b2-cb4166b065a7",
   "metadata": {},
   "source": [
    "\n",
    "# Evaluating the model\n"
   ]
  },
  {
   "cell_type": "code",
   "execution_count": 95,
   "id": "b32f118e-e537-4891-8d73-a86efd6b9d73",
   "metadata": {},
   "outputs": [],
   "source": [
    "from sklearn.metrics import mean_squared_error\n",
    "from sklearn.metrics import r2_score\n",
    "import math"
   ]
  },
  {
   "cell_type": "code",
   "execution_count": 93,
   "id": "6ca8a18b-0407-4081-bfe1-043419cd4320",
   "metadata": {},
   "outputs": [
    {
     "name": "stdout",
     "output_type": "stream",
     "text": [
      "Mean Squared Error: 2899.6652108133308\n",
      "Root Mean Squared Error: 53.848539542064934\n"
     ]
    }
   ],
   "source": [
    "\n",
    "# Mean Squared Error (MSE)\n",
    "mse = mean_squared_error(y_test, y_pred)\n",
    "\n",
    "# Root Mean Squared Error (RMSE)\n",
    "rmse = math.sqrt(mse)\n",
    "\n",
    "print(f\"Mean Squared Error: {mse}\")\n",
    "print(f\"Root Mean Squared Error: {rmse}\")"
   ]
  },
  {
   "cell_type": "code",
   "execution_count": 96,
   "id": "926df903-cbeb-4b17-a1fa-90e685521738",
   "metadata": {},
   "outputs": [
    {
     "name": "stdout",
     "output_type": "stream",
     "text": [
      "R-squared: -2.212308872918856\n"
     ]
    }
   ],
   "source": [
    "r2 = r2_score(y_test, y_pred)\n",
    "print(f\"R-squared: {r2}\")"
   ]
  },
  {
   "cell_type": "code",
   "execution_count": 99,
   "id": "af806da2-c04f-4797-adf9-287db8aa80f5",
   "metadata": {},
   "outputs": [
    {
     "name": "stderr",
     "output_type": "stream",
     "text": [
      "WARNING:absl:You are saving your model as an HDF5 file via `model.save()` or `keras.saving.save_model(model)`. This file format is considered legacy. We recommend using instead the native Keras format, e.g. `model.save('my_model.keras')` or `keras.saving.save_model(model, 'my_model.keras')`. \n"
     ]
    },
    {
     "name": "stdout",
     "output_type": "stream",
     "text": [
      "Model saved successfully!\n"
     ]
    }
   ],
   "source": [
    "# Save the model\n",
    "model.save('stock_prediction_lstm_model.h5')\n",
    "print(\"Model saved successfully!\")\n"
   ]
  },
  {
   "cell_type": "code",
   "execution_count": 103,
   "id": "c6689184-1382-4fc2-9a60-803df5090951",
   "metadata": {},
   "outputs": [
    {
     "name": "stdout",
     "output_type": "stream",
     "text": [
      "Weights saved successfully!\n"
     ]
    }
   ],
   "source": [
    "# Save the weights\n",
    "model.save_weights('stock_prediction_lstm_weights.weights.h5')\n",
    "print(\"Weights saved successfully!\")\n"
   ]
  },
  {
   "cell_type": "code",
   "execution_count": null,
   "id": "b7fff29c-2a63-4836-bd92-964a811277e7",
   "metadata": {},
   "outputs": [],
   "source": []
  }
 ],
 "metadata": {
  "kernelspec": {
   "display_name": "Python 3 (ipykernel)",
   "language": "python",
   "name": "python3"
  },
  "language_info": {
   "codemirror_mode": {
    "name": "ipython",
    "version": 3
   },
   "file_extension": ".py",
   "mimetype": "text/x-python",
   "name": "python",
   "nbconvert_exporter": "python",
   "pygments_lexer": "ipython3",
   "version": "3.12.9"
  }
 },
 "nbformat": 4,
 "nbformat_minor": 5
}
